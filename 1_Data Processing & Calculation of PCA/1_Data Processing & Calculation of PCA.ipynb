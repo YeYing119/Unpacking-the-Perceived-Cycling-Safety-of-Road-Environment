{
 "cells": [
  {
   "cell_type": "markdown",
   "id": "7b4e6c56-359a-41ca-9dcf-861f3e9c5230",
   "metadata": {},
   "source": [
    "## 1. Bicycle accident selected"
   ]
  },
  {
   "cell_type": "markdown",
   "id": "5f3ed01b-47cf-4c44-88cc-811ae643e15f",
   "metadata": {},
   "source": [
    "#### 1.1 Filter out bicycle crashes (88383), remove duplicate rows with accident_index (86810)"
   ]
  },
  {
   "cell_type": "code",
   "execution_count": null,
   "id": "4ea8c4ba-bac7-4538-8b41-e6ade94580b6",
   "metadata": {},
   "outputs": [],
   "source": [
    "import pandas as pd\n",
    "import geopandas as gp\n",
    "import matplotlib.pyplot as plt\n",
    "from shapely.geometry import Point\n",
    "import contextily as ctx"
   ]
  },
  {
   "cell_type": "code",
   "execution_count": null,
   "id": "e9ae68b7-8424-47c2-8100-f730b9c22d11",
   "metadata": {},
   "outputs": [],
   "source": [
    "df = pd.read_csv(\"Cycling/GOV/00_dft-road-casualty-statistics-vehicle-last-5-years.csv\")\n",
    "\n",
    "df = df[df[\"vehicle_type\"] == 1]\n",
    "\n",
    "df.drop(df[df[\"vehicle_type\"] != 1].index, inplace=True)\n",
    "\n",
    "print(df)"
   ]
  },
  {
   "cell_type": "code",
   "execution_count": null,
   "id": "cc6f5cc7-478f-45f4-9d4c-e120fc0c86b0",
   "metadata": {},
   "outputs": [],
   "source": [
    "# Delete duplicate rows\n",
    "df = df.drop_duplicates(subset='accident_index')\n",
    "\n",
    "# Save the results to a new CSV file\n",
    "df.to_csv(\"Cycling/GOV_Selected/01_Pedal Cycle_accident reference_clean_2.csv\", index=False)\n",
    "\n",
    "print(df)"
   ]
  },
  {
   "cell_type": "markdown",
   "id": "3d65e1fe-9f21-4724-82b4-f81251942798",
   "metadata": {},
   "source": [
    "#### 1.2 Merging of 'Accident' data sets (86810)"
   ]
  },
  {
   "cell_type": "code",
   "execution_count": null,
   "id": "b123d744-7f1e-459e-a7b4-54a5e2659e64",
   "metadata": {},
   "outputs": [],
   "source": [
    "# Read in two CSV files and set the data type of the accident_index column to string\n",
    "df_accidents = pd.read_csv(\"Cycling/GOV/00_dft-road-casualty-statistics-accident-last-5-years.csv\", dtype={'accident_index': str})\n",
    "df_pedal_cycle = pd.read_csv(\"Cycling/GOV_Selected/01_Pedal Cycle_accident reference_clean_2.csv\", dtype={'accident_index': str})\n",
    "\n",
    "# Use the merge function to join the two DataFrames according to the accident_reference column\n",
    "merged_df = pd.merge(df_pedal_cycle, df_accidents, on='accident_index', how='inner')\n",
    "\n",
    "# output result\n",
    "print(merged_df)\n",
    "\n",
    "# Save the results to a new CSV file\n",
    "merged_df.to_csv(\"Cycling/GOV_Selected/02_Pedal Cycle_Accident_UK_2.csv\", index=False)"
   ]
  },
  {
   "cell_type": "markdown",
   "id": "4b0178d0-266b-4282-b4b1-41288cca987e",
   "metadata": {},
   "source": [
    "#### 1.3 Filtering out cycle crashes in London (24820)"
   ]
  },
  {
   "cell_type": "code",
   "execution_count": null,
   "id": "d2eb1a7f-9ff3-43dc-87f5-2e04cc9fb2e2",
   "metadata": {},
   "outputs": [],
   "source": [
    "from shapely.geometry import Point\n",
    "\n",
    "Outer = gp.read_file(\"London shp/merged_london.shp\")\n",
    "\n",
    "CycleAccident = pd.read_csv(\"Cycling/GOV_Selected/02_Pedal Cycle_Accident_UK_2.csv\")\n",
    "\n",
    "x = CycleAccident['location_easting_osgr']\n",
    "y = CycleAccident['location_northing_osgr']\n",
    "\n",
    "# Creating geometric objects of type Point\n",
    "geometry = [Point(xy) for xy in zip(CycleAccident['location_easting_osgr'], CycleAccident['location_northing_osgr'])]\n",
    "\n",
    "# Converting CycleAccident to GeoDataFrame\n",
    "gdf_cycle_accident = gp.GeoDataFrame(CycleAccident, crs=Outer.crs, geometry=geometry)\n",
    "\n",
    "# Use Spatial Join to get points in CycleAccident that are inside Outer\n",
    "points_inside_outer = gp.sjoin(gdf_cycle_accident, Outer, op='within')\n",
    "\n",
    "print(points_inside_outer)\n",
    "\n",
    "# Save as a new CSV file\n",
    "points_inside_outer.to_csv(\"Cycling/GOV_Selected/03_Pedal Cycle_Accident_London_2.csv\", index=False)"
   ]
  },
  {
   "cell_type": "markdown",
   "id": "4391adcf-583d-4614-b389-00147cfbe0c3",
   "metadata": {},
   "source": [
    "## 2. Find out the roads where all the bicycle accidents in GLA"
   ]
  },
  {
   "cell_type": "code",
   "execution_count": null,
   "id": "9bb876c1-1807-49cf-aef3-3a01007dae30",
   "metadata": {},
   "outputs": [],
   "source": [
    "pip install contextily"
   ]
  },
  {
   "cell_type": "code",
   "execution_count": null,
   "id": "584e0672-a555-4480-b1f7-b83f9cf9c319",
   "metadata": {},
   "outputs": [],
   "source": [
    "pip install basemap"
   ]
  },
  {
   "cell_type": "code",
   "execution_count": null,
   "id": "e3131350-2545-4ef7-9701-9945527375d9",
   "metadata": {},
   "outputs": [],
   "source": [
    "import pandas as pd\n",
    "import geopandas as gp\n",
    "import matplotlib.pyplot as plt\n",
    "from shapely.geometry import Point\n",
    "import contextily as ctx"
   ]
  },
  {
   "cell_type": "markdown",
   "id": "47851aaa-bbc7-4a84-977a-559da801c020",
   "metadata": {},
   "source": [
    "#### 2.1 Read the Great London Area boundary"
   ]
  },
  {
   "cell_type": "code",
   "execution_count": null,
   "id": "4b947991-2179-4579-acb4-1311bee108c8",
   "metadata": {},
   "outputs": [],
   "source": [
    "# Read shapefile and csv\n",
    "Outer = gp.read_file(\"London shp/merged_london.shp\")\n",
    "CountPoint = pd.read_csv('Data/0-Count locations.csv')"
   ]
  },
  {
   "cell_type": "markdown",
   "id": "fc727c0c-f5ca-4ed3-927c-b6dcdbade1bf",
   "metadata": {},
   "source": [
    "#### 2.2 Read the GLA roads"
   ]
  },
  {
   "cell_type": "code",
   "execution_count": null,
   "id": "b94dd48b-63fe-43d2-9a9b-6014f0c443a3",
   "metadata": {},
   "outputs": [],
   "source": [
    "Road_within_Outer = gp.read_file(\"Road/oproad shp/Road_Outer/RoadLink_Outer_2.shp\")"
   ]
  },
  {
   "cell_type": "code",
   "execution_count": null,
   "id": "7a30fcdb-e097-4f8a-9bf1-84c6a25fc9dd",
   "metadata": {},
   "outputs": [],
   "source": [
    "# Convert easting and northing to Points\n",
    "geometry = [Point(xy) for xy in zip(CountPoint['Easting (UK Grid)'], CountPoint['Northing (UK Grid)'])]\n",
    "CountPoint = gp.GeoDataFrame(CountPoint, geometry=geometry)\n",
    "\n",
    "# Set the CRS for both GeoDataFrames to British National Grid (EPSG:27700)\n",
    "CountPoint.crs = 'epsg:27700'\n",
    "Outer.crs = 'epsg:27700'"
   ]
  },
  {
   "cell_type": "markdown",
   "id": "17f09d9e-4c28-4717-9a83-86df506335e3",
   "metadata": {},
   "source": [
    "#### 2.3 Print out the GLA boundary with all roads"
   ]
  },
  {
   "cell_type": "code",
   "execution_count": null,
   "id": "cb6f0a6f-acf9-4917-b638-e73732bd149f",
   "metadata": {},
   "outputs": [],
   "source": [
    "# Creating graphic objects\n",
    "fig, ax = plt.subplots(figsize=(50, 50))\n",
    "\n",
    "# Read Shapefile Data\n",
    "Outer.plot(ax=ax, color='red', alpha=0.05, edgecolor='red',linewidth=3, label='Shapefile')\n",
    "Outer.plot(ax=ax, color='none', edgecolor='red',linewidth=3, label='Shapefile')\n",
    "\n",
    "# Plot road of GLA\n",
    "Road_within_Outer.plot(ax=ax, color='gray',linewidth=0.8, label='Road')\n",
    "\n",
    "# Add the Google Map as a background using contextily\n",
    "ctx.add_basemap(ax, crs=CountPoint.crs, source=ctx.providers.Stamen.TonerLite, alpha=1)\n",
    "\n",
    "# add legend\n",
    "ax.grid(False)\n",
    "ax.set_title(\"Survey Region: London\", fontsize=40)\n",
    "\n",
    "# Hide axis Latitude and Longitude numbers\n",
    "ax.set_xticks([])\n",
    "ax.set_yticks([])\n",
    "\n",
    "# save as image\n",
    "# plt.savefig('Output_jpg/01_Survey Region.png', bbox_inches='tight', dpi=600)\n",
    "\n",
    "# plot graphic\n",
    "plt.show()"
   ]
  },
  {
   "cell_type": "markdown",
   "id": "8aadf8a8-fe11-479d-bc07-643c11220606",
   "metadata": {},
   "source": [
    "#### 2.4 Plot the points of all cycle accidents in London over a five-year period"
   ]
  },
  {
   "cell_type": "code",
   "execution_count": null,
   "id": "783c3c49-28ca-4fb0-a1fc-7b05295126ac",
   "metadata": {},
   "outputs": [],
   "source": [
    "LondonAccident = pd.read_csv(\"Cycling/GOV_Selected/03_Pedal Cycle_Accident_London_2.csv\")\n",
    "x = LondonAccident['location_easting_osgr']\n",
    "y = LondonAccident['location_northing_osgr']"
   ]
  },
  {
   "cell_type": "code",
   "execution_count": null,
   "id": "c06eceae-28f2-415c-83b2-01cea42e2f78",
   "metadata": {},
   "outputs": [],
   "source": [
    "plt.show()\n",
    "\n",
    "fig, ax = plt.subplots(figsize=(50, 50))\n",
    "\n",
    "Outer.plot(ax=ax, color='none', edgecolor='black',linewidth=3, label='Shapefile')\n",
    "\n",
    "ax.scatter(x, y, s=1, color='red', label='Cycle Accidents', zorder=2)\n",
    "\n",
    "Road_within_Outer.plot(ax=ax, color='gray',linewidth=0.5, label='Road', zorder=1)\n",
    "\n",
    "ax.legend()\n",
    "ax.grid(False)\n",
    "ax.set_title(\"Cycle Accidents and Count Locations in London\", fontsize=40)\n",
    "\n",
    "ax.set_xticks([])\n",
    "ax.set_yticks([])\n",
    "\n",
    "plt.savefig('Output_jpg/05_Cycle Accident and Count Locations_no basemap.png', bbox_inches='tight', dpi=600)\n",
    "\n",
    "plt.show()"
   ]
  },
  {
   "cell_type": "markdown",
   "id": "75c4c80c-4f5b-4a6c-ba0f-66a96dc23a36",
   "metadata": {},
   "source": [
    "#### 2.5 Calculate the road where the accident occurred"
   ]
  },
  {
   "cell_type": "code",
   "execution_count": null,
   "id": "999c4d7b-675f-4bc0-abd8-598b5df8f915",
   "metadata": {},
   "outputs": [],
   "source": [
    "from shapely.geometry import Point\n",
    "\n",
    "# Creating graphic objects\n",
    "fig, ax = plt.subplots(figsize=(50, 50))\n",
    "\n",
    "# Plotting Shapefile data\n",
    "Outer.plot(ax=ax, color='none', edgecolor='black',linewidth=3, label='Shapefile')\n",
    "\n",
    "# Plotting GeoPackage data\n",
    "Road_within_Outer.plot(ax=ax, color='gray',linewidth=0.3, label='Road', zorder=1)\n",
    "\n",
    "# Plotting the points of cycle accidents\n",
    "ax.scatter(x, y, s=1, color='red', label='Cycle Accidents', zorder=2)\n",
    "\n",
    "def find_closest(row, roads):\n",
    "    return roads.geometry.distance(row.geometry).idxmin()\n",
    "\n",
    "# Creating point geometry objects\n",
    "points = gp.GeoDataFrame(geometry=gp.points_from_xy(x, y))\n",
    "\n",
    "points['closest_road'] = points.apply(find_closest, roads=Road_within_Outer, axis=1)\n",
    "\n",
    "# Now, points['closest_road'] contains an index of the nearest road for each point.\n",
    "# We can filter the corresponding roads from the Road DataFrame based on these indexes.\n",
    "\n",
    "closest_roads_accident = Road_within_Outer.loc[points['closest_road']]\n",
    "\n",
    "# Plotting the nearest road to each point\n",
    "closest_roads_accident.plot(ax=ax, color='red', linewidth=0.5, label='Accident Closest Roads')\n",
    "\n",
    "# Add legend\n",
    "ax.legend()\n",
    "ax.set_title(\"Cycle Accidents with Road Segment in London 2017-2021\", fontsize=60)\n",
    "\n",
    "# Save as image\n",
    "# plt.savefig('Output_jpg/06_Cycle Accident Locations with Road Segment.png', bbox_inches='tight', dpi=600)\n",
    "\n",
    "# Plot graphic\n",
    "plt.show()"
   ]
  },
  {
   "cell_type": "markdown",
   "id": "4fe7dcfc-c129-4124-b9d3-477a0db3e5cb",
   "metadata": {},
   "source": [
    "#### 2.6 Deposit the road on which the accident occurred into the accident dataset"
   ]
  },
  {
   "cell_type": "code",
   "execution_count": null,
   "id": "4cf4eded-3df3-4b5b-a662-d2f64763825b",
   "metadata": {},
   "outputs": [],
   "source": [
    "# Add other attributes of the nearest road to points\n",
    "attributes = ['identifier', 'class', 'name1', 'formOfWay', 'length']\n",
    "for attribute in attributes:\n",
    "    points[f'closest_road_{attribute}'] = points['closest_road'].map(Road_within_Outer[attribute])\n",
    "\n",
    "# Convert geometry column to two columns: x and y\n",
    "points['location_easting_osgr'], points['location_northing_osgr'] = points.geometry.x, points.geometry.y\n",
    "\n",
    "# Merge the original LondonAccident DataFrame with the new points DataFrame\n",
    "LondonAccident = LondonAccident.merge(points, on=['location_easting_osgr', 'location_northing_osgr'])\n",
    "\n",
    "# Save as csv\n",
    "LondonAccident.to_csv('Cycling/GOV_Selected/04_Cycle Accident Location_Closest Road.csv', index=False)"
   ]
  },
  {
   "cell_type": "code",
   "execution_count": null,
   "id": "b8ea30a1-0826-47a1-ae90-5263e1f7d252",
   "metadata": {},
   "outputs": [],
   "source": [
    "print(LondonAccident)"
   ]
  },
  {
   "cell_type": "code",
   "execution_count": null,
   "id": "6efa31db-289c-42c2-acc4-1d13dc50d5ec",
   "metadata": {},
   "outputs": [],
   "source": [
    "# Remove duplicate rows\n",
    "LondonAccident = LondonAccident.drop_duplicates(subset='accident_index')\n",
    "\n",
    "# Save the results to a new CSV file\n",
    "LondonAccident.to_csv(\"Cycling/GOV_Selected/05_Cycle Accident Location_Closest Road_clean.csv\", index=False)\n",
    "\n",
    "print(LondonAccident)"
   ]
  },
  {
   "cell_type": "markdown",
   "id": "ac9176e1-3717-4cf1-a430-b73a5c0831d9",
   "metadata": {},
   "source": [
    "## 3. Counting the number of bicycle accidents on each road"
   ]
  },
  {
   "cell_type": "code",
   "execution_count": null,
   "id": "e7ded0de-1073-4eb5-86c4-2144d4314f1d",
   "metadata": {},
   "outputs": [],
   "source": [
    "import pandas as pd"
   ]
  },
  {
   "cell_type": "code",
   "execution_count": null,
   "id": "90ac7b20-75e1-437f-b611-27fcf05671a9",
   "metadata": {},
   "outputs": [],
   "source": [
    "Accident = pd.read_csv('Cycling/GOV_Selected/05_Cycle Accident Location_Closest Road_clean.csv')"
   ]
  },
  {
   "cell_type": "code",
   "execution_count": null,
   "id": "3c8facbc-1e59-444d-a52a-15b2b6f267c3",
   "metadata": {},
   "outputs": [],
   "source": [
    "Accident_road_identifier = Count['closest_road_identifier'].value_counts()\n",
    "print(Accident_road_identifier)"
   ]
  },
  {
   "cell_type": "code",
   "execution_count": null,
   "id": "29d2f080-dc5e-4dc1-bf15-8ee731640409",
   "metadata": {},
   "outputs": [],
   "source": [
    "Accidents_df = pd.DataFrame(Accident_road_identifier.reset_index())\n",
    "Accidents_df.columns = ['closest_road_identifier', 'accidents']\n",
    "Accidents_df.to_csv('Cycling/GOV_Selected/06_Cycle Accident_road_identifier.csv', index=False)"
   ]
  },
  {
   "cell_type": "markdown",
   "id": "4192b5e8-2af6-4e6b-96fc-127c3fbaac98",
   "metadata": {},
   "source": [
    "## 4. Find out the roads where all the accidents took place in GLA "
   ]
  },
  {
   "cell_type": "code",
   "execution_count": null,
   "id": "3f8b52c9-9071-4633-b5a6-0f6337fe8a29",
   "metadata": {},
   "outputs": [],
   "source": [
    "# Read shapefile and csv\n",
    "Outer = gp.read_file(\"London shp/merged_london.shp\")"
   ]
  },
  {
   "cell_type": "code",
   "execution_count": null,
   "id": "acc55cec-8bd3-495c-b139-34cd1efcd82e",
   "metadata": {},
   "outputs": [],
   "source": [
    "Road_within_Outer = gp.read_file(\"Road/oproad shp/Road_Outer/RoadLink_Outer_2.shp\")"
   ]
  },
  {
   "cell_type": "code",
   "execution_count": null,
   "id": "7d2fea7f-1534-400f-a4ae-4031f9dd435d",
   "metadata": {},
   "outputs": [],
   "source": [
    "Outer.crs = 'epsg:27700'"
   ]
  },
  {
   "cell_type": "code",
   "execution_count": null,
   "id": "3451ee4b-99b7-4766-bf73-9bd6cb233962",
   "metadata": {},
   "outputs": [],
   "source": [
    "LondonAccident = pd.read_csv(\"Cycling/GOV_Selected_2/01_ALL_accident_Location_outer.csv\")\n",
    "x = LondonAccident['location_easting_osgr']\n",
    "y = LondonAccident['location_northing_osgr']"
   ]
  },
  {
   "cell_type": "markdown",
   "id": "0550c565-4992-490c-91a3-6368d67b3952",
   "metadata": {},
   "source": [
    "#### 4.1 Plot all accident in GLA"
   ]
  },
  {
   "cell_type": "code",
   "execution_count": null,
   "id": "cb49caf4-5502-48b1-9e65-0fa15a2a660a",
   "metadata": {},
   "outputs": [],
   "source": [
    "# 显示图形\n",
    "plt.show()\n",
    "\n",
    "# 创建图形对象\n",
    "fig, ax = plt.subplots(figsize=(50, 50))\n",
    "\n",
    "# 绘制Shapefile数据\n",
    "Outer.plot(ax=ax, color='none', edgecolor='red',linewidth=3, label='Shapefile')\n",
    "\n",
    "# 绘制GeoPackage数据\n",
    "Road_within_Outer.plot(ax=ax, color='gray',linewidth=0.8, label='Road', zorder=1)\n",
    "\n",
    "# 绘制车祸的点\n",
    "ax.scatter(x, y, s=3, color='orange', label='All Accidents', zorder=2)\n",
    "\n",
    "# 添加图例\n",
    "ax.legend()\n",
    "ax.grid(False)\n",
    "ax.set_title(\"All Accidents Locations in London\", fontsize=40)\n",
    "\n",
    "# 隐藏坐标轴经纬度数字\n",
    "ax.set_xticks([])\n",
    "ax.set_yticks([])\n",
    "\n",
    "# 显示图形\n",
    "plt.show()"
   ]
  },
  {
   "cell_type": "markdown",
   "id": "9e8ce4de-a03d-423e-a84f-8e24113736fd",
   "metadata": {},
   "source": [
    "#### 4.2 Calculate the road where all the accidents occurred"
   ]
  },
  {
   "cell_type": "code",
   "execution_count": null,
   "id": "53ad1886-d516-4167-b454-3193bf1699ee",
   "metadata": {},
   "outputs": [],
   "source": [
    "from shapely.geometry import Point\n",
    "\n",
    "# Creating graphic objects\n",
    "fig, ax = plt.subplots(figsize=(50, 50))\n",
    "\n",
    "# Plotting Shapefile data\n",
    "Outer.plot(ax=ax, color='none', edgecolor='black',linewidth=3, label='Shapefile')\n",
    "\n",
    "# Plotting GeoPackage data\n",
    "Road_within_Outer.plot(ax=ax, color='gray',linewidth=0.3, label='Road', zorder=1)\n",
    "\n",
    "# Plotting the all accident points\n",
    "ax.scatter(x, y, s=1, color='orange', label='All Accidents', zorder=2)\n",
    "\n",
    "def find_closest(row, roads):\n",
    "    return roads.geometry.distance(row.geometry).idxmin()\n",
    "\n",
    "# x and y are my list of coordinates\n",
    "points = gp.GeoDataFrame(geometry=gp.points_from_xy(x, y))  \n",
    "\n",
    "points['closest_road'] = points.apply(find_closest, roads=Road_within_Outer, axis=1)\n",
    "\n",
    "closest_roads_accident = Road_within_Outer.loc[points['closest_road']]\n",
    "\n",
    "# Plotting the nearest road to each point\n",
    "closest_roads_accident.plot(ax=ax, color='red', linewidth=0.5, label='Accident Closest Roads')\n",
    "\n",
    "# Add legend\n",
    "ax.legend()\n",
    "ax.set_title(\"All Accidents in London 2017-2021\", fontsize=60)\n",
    "\n",
    "# Plotting graphics\n",
    "plt.show()"
   ]
  },
  {
   "cell_type": "markdown",
   "id": "885e8b43-4717-4884-b557-fede2458d54b",
   "metadata": {},
   "source": [
    "#### 4.3 Deposit the road on which the accident occurred into the accident dataset"
   ]
  },
  {
   "cell_type": "code",
   "execution_count": null,
   "id": "4d20e435-5dc4-4c84-ae81-33b92b517f7b",
   "metadata": {},
   "outputs": [],
   "source": [
    "# Add other attributes of the nearest road to points\n",
    "attributes = ['identifier', 'class', 'name1', 'formOfWay', 'length']\n",
    "for attribute in attributes:\n",
    "    points[f'closest_road_{attribute}'] = points['closest_road'].map(Road_within_Outer[attribute])\n",
    "\n",
    "# Convert geometry column to two columns: x and y\n",
    "points['location_easting_osgr'], points['location_northing_osgr'] = points.geometry.x, points.geometry.y\n",
    "\n",
    "# Merge the original LondonAccident DataFrame with the new points DataFrame\n",
    "LondonAccident = LondonAccident.merge(points, on=['location_easting_osgr', 'location_northing_osgr'])\n",
    "\n",
    "# Save as csv\n",
    "LondonAccident.to_csv('Cycling/GOV_Selected_2/03_Merged_ALL_accident_with_closest_road.csv', index=False)"
   ]
  },
  {
   "cell_type": "markdown",
   "id": "591f3baa-0f12-42fd-9c64-8573178527c6",
   "metadata": {},
   "source": [
    "## 5. Counting the number of all accidents on each road"
   ]
  },
  {
   "cell_type": "code",
   "execution_count": null,
   "id": "6662277b-5a37-4e75-881e-71e9932f05a8",
   "metadata": {},
   "outputs": [],
   "source": [
    "Count = pd.read_csv('Cycling/GOV_Selected_2/03_Merged_ALL_accident_with_closest_road.csv')"
   ]
  },
  {
   "cell_type": "code",
   "execution_count": null,
   "id": "b005179f-d890-42b1-9ce2-8d43a2804da3",
   "metadata": {},
   "outputs": [],
   "source": [
    "Count_road_identifier = Count['closest_road_identifier'].value_counts()\n",
    "print(Count_road_identifier)"
   ]
  },
  {
   "cell_type": "code",
   "execution_count": null,
   "id": "4a00d4b9-36cb-4a10-9575-9fc2b9360f3d",
   "metadata": {},
   "outputs": [],
   "source": [
    "Counts_df = pd.DataFrame(Count_road_identifier.reset_index())\n",
    "Counts_df.columns = ['closest_road_identifier', 'all accident counts']\n",
    "Counts_df.to_csv('Cycling/GOV_Selected_2/04_ALL Accident Count_road_identifier.csv', index=False)"
   ]
  },
  {
   "cell_type": "markdown",
   "id": "549c71d3-e208-44fe-acd0-c0c8a5118872",
   "metadata": {},
   "source": [
    "## 6. Calculation of Proportion of Cycle Accidents (PCA)"
   ]
  },
  {
   "cell_type": "markdown",
   "id": "939741d1-50ac-440b-badd-179efed4d0c5",
   "metadata": {},
   "source": [
    "#### 6.1 Combining the number of bicycle accidents and total accidents on each road segment"
   ]
  },
  {
   "cell_type": "code",
   "execution_count": null,
   "id": "67bd8c4c-9a2e-476a-853c-4a758494cc11",
   "metadata": {},
   "outputs": [],
   "source": [
    "import pandas as pd\n",
    "\n",
    "# Read two CSV files\n",
    "df1 = pd.read_csv('Cycling/GOV_Selected/06_Cycle Accident_road_identifier.csv')\n",
    "df2 = pd.read_csv('Cycling/GOV_Selected_2/04_ALL Accident Count_road_identifier.csv')\n",
    "\n",
    "# Merging two DataFrames\n",
    "df = pd.merge(df1, df2, on='closest_road_identifier', how='inner')\n",
    "\n",
    "print(df)\n",
    "\n",
    "# Save the results to a new CSV file\n",
    "df.to_csv('Cycling/GOV_Selected_2/05_Cycle_All Accident_Closest Road_count.csv', index=False) "
   ]
  },
  {
   "cell_type": "markdown",
   "id": "881db016-886e-4ae8-95de-2dc03128c6cc",
   "metadata": {},
   "source": [
    "#### 6.2 Combining the Proportion of Cycle Accidents (PCA) dataset and the bicycle accident dataset"
   ]
  },
  {
   "cell_type": "code",
   "execution_count": null,
   "id": "08108e0a-6b2f-46d2-9aa8-5d22876fe963",
   "metadata": {},
   "outputs": [],
   "source": [
    "# Read two CSV files\n",
    "df3 = pd.read_csv('Cycling/GOV_Selected/05_Cycle Accident Location_Closest Road_clean.csv')\n",
    "df4 = pd.read_csv('Cycling/GOV_Selected_2/05_Cycle_All Accident_Closest Road_count.csv')\n",
    "\n",
    "# Merging two DataFrames\n",
    "df2 = pd.merge(df3, df4, on='closest_road_identifier', how='left')\n",
    "\n",
    "print(df2)\n",
    "\n",
    "# Save the results to a new CSV file\n",
    "df2.to_csv('Cycling/GOV_Selected_2/06_Cycle_All Accident_Accident Rate.csv', index=False) "
   ]
  }
 ],
 "metadata": {
  "kernelspec": {
   "display_name": "Python 3 (ipykernel)",
   "language": "python",
   "name": "python3"
  },
  "language_info": {
   "codemirror_mode": {
    "name": "ipython",
    "version": 3
   },
   "file_extension": ".py",
   "mimetype": "text/x-python",
   "name": "python",
   "nbconvert_exporter": "python",
   "pygments_lexer": "ipython3",
   "version": "3.10.5"
  }
 },
 "nbformat": 4,
 "nbformat_minor": 5
}
