{
 "cells": [
  {
   "cell_type": "markdown",
   "id": "f611bc35-bad7-49fe-b072-cbab90304149",
   "metadata": {},
   "source": [
    "## Download Google street view images of all cycling accident points"
   ]
  },
  {
   "cell_type": "code",
   "execution_count": null,
   "id": "dff038e8-1dcb-44b9-85d6-8c60fea38002",
   "metadata": {},
   "outputs": [],
   "source": [
    "import os\n",
    "import requests\n",
    "import csv\n",
    "import pandas as pd\n",
    "import math"
   ]
  },
  {
   "cell_type": "code",
   "execution_count": null,
   "id": "4dc72cb0-7068-4c0e-84ae-c00ab9edec35",
   "metadata": {},
   "outputs": [],
   "source": [
    "df = pd.read_csv('Cycling/GOV_Selected_2/06_Cycle_All Accident_Accident Rate.csv', encoding='utf-8-sig')\n",
    "latitudes = df['latitude'].tolist()\n",
    "longitudes = df['longitude'].tolist()\n",
    "accident_reference = df['accident_reference_x'].tolist()\n",
    "\n",
    "print(latitudes)"
   ]
  },
  {
   "cell_type": "code",
   "execution_count": null,
   "id": "28e332b2-c213-4177-8b70-12f7cb328e44",
   "metadata": {},
   "outputs": [],
   "source": [
    "print(longitudes)"
   ]
  },
  {
   "cell_type": "code",
   "execution_count": null,
   "id": "aa4b76d3-f350-4506-b906-88cb1a11cb12",
   "metadata": {},
   "outputs": [],
   "source": [
    "# Calculate the function of direction\n",
    "def calculate_bearing(pointA, pointB):\n",
    "    lat1 = math.radians(pointA[0])\n",
    "    lat2 = math.radians(pointB[0])\n",
    "\n",
    "    diffLong = math.radians(pointB[1] - pointA[1])\n",
    "\n",
    "    x = math.sin(diffLong) * math.cos(lat2)\n",
    "    y = math.cos(lat1) * math.sin(lat2) - (math.sin(lat1)\n",
    "            * math.cos(lat2) * math.cos(diffLong))\n",
    "\n",
    "    initial_bearing = math.atan2(x, y)\n",
    "\n",
    "    # Now we have the initial bearing but math.atan2() returns values from -π to + π\n",
    "    # So we normalize the result, like so:\n",
    "    initial_bearing = math.degrees(initial_bearing)\n",
    "    compass_bearing = (initial_bearing + 360) % 360\n",
    "\n",
    "    return compass_bearing\n",
    "\n",
    "# Calculate the orientation of each point\n",
    "bearings = []\n",
    "for i in range(1, len(latitudes)):\n",
    "    bearings.append(calculate_bearing((float(latitudes[i-1]), float(longitudes[i-1])), (float(latitudes[i]), float(longitudes[i]))))\n",
    "\n",
    "# For each point, download the street view facing that direction\n",
    "# replace ‘Google API Key’ with your own Google API Key Number\n",
    "for i in range(1, len(latitudes)):\n",
    "    for angle in range(0, 360, 90):\n",
    "        ###-45, 315, 90\n",
    "        ### 0, 360, 90\n",
    "        adjusted_bearing = (bearings[i-1] + angle) % 360\n",
    "        # Generate URL\n",
    "        url = \"https://maps.googleapis.com/maps/api/streetview?size=1024x1024&location=\" \\\n",
    "              + str(latitudes[i]) + \",\" + str(longitudes[i]) \\\n",
    "              + \"&fov=90&heading=\" + str(adjusted_bearing) \\\n",
    "              + \"&pitch=0\" + \"&key=Google API Key\"\n",
    "            \n",
    "         # Download images\n",
    "        download_folder = os.path.join(os.getcwd(), 'Streetview Downloads')\n",
    "        os.makedirs(download_folder, exist_ok=True)\n",
    "        r = requests.get(url)\n",
    "        with open(os.path.join(download_folder, str(accident_reference[i]) + \"_\" + str(int(adjusted_bearing)) + '.jpg'), 'wb') as f:\n",
    "            f.write(r.content)\n",
    "\n",
    "print(\"All Street View Images download is complete!\")"
   ]
  }
 ],
 "metadata": {
  "kernelspec": {
   "display_name": "Python 3 (ipykernel)",
   "language": "python",
   "name": "python3"
  },
  "language_info": {
   "codemirror_mode": {
    "name": "ipython",
    "version": 3
   },
   "file_extension": ".py",
   "mimetype": "text/x-python",
   "name": "python",
   "nbconvert_exporter": "python",
   "pygments_lexer": "ipython3",
   "version": "3.10.5"
  }
 },
 "nbformat": 4,
 "nbformat_minor": 5
}
